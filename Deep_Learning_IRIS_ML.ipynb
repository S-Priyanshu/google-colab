{
  "nbformat": 4,
  "nbformat_minor": 0,
  "metadata": {
    "colab": {
      "provenance": [],
      "include_colab_link": true
    },
    "kernelspec": {
      "name": "python3",
      "display_name": "Python 3"
    }
  },
  "cells": [
    {
      "cell_type": "markdown",
      "metadata": {
        "id": "view-in-github",
        "colab_type": "text"
      },
      "source": [
        "<a href=\"https://colab.research.google.com/github/S-Priyanshu/google-colab/blob/main/Deep_Learning_IRIS_ML.ipynb\" target=\"_parent\"><img src=\"https://colab.research.google.com/assets/colab-badge.svg\" alt=\"Open In Colab\"/></a>"
      ]
    },
    {
      "cell_type": "code",
      "metadata": {
        "id": "mgvxJB_v2RR1"
      },
      "source": [
        "import numpy as np\n",
        "import pandas as pd\n",
        "import matplotlib.pyplot as plt\n",
        "# Load the dataset from sklearn\n",
        "from sklearn.datasets import load_iris\n",
        "# Importing both TensorFlow and its high level API - Keras.\n",
        "import tensorflow as tf\n",
        "from tensorflow import keras\n",
        "# Setting the random seeds for repeatability\n",
        "tf.random.set_seed(42)\n",
        "np.random.seed(42)"
      ],
      "execution_count": null,
      "outputs": []
    },
    {
      "cell_type": "code",
      "metadata": {
        "id": "gZc0tnnH2T9C"
      },
      "source": [
        "irisData = load_iris()\n",
        "# Load the attributes and target in X and y\n",
        "X = irisData.data\n",
        "y = irisData.target\n",
        "# Split the data into 80% training and 20% testing\n",
        "from sklearn.model_selection import train_test_split\n",
        "X_train, X_test, y_train, y_test = train_test_split(X, y, test_size=0.2,\n",
        "stratify=y, random_state=42)\n",
        "# Feature scaling using Standardization\n",
        "from sklearn.preprocessing import StandardScaler\n",
        "sc = StandardScaler()\n",
        "# Training the feature scaling parameters\n",
        "sc.fit(X_train)\n",
        "# Applying transformations to both training and testing set\n",
        "X_train_std = sc.transform(X_train)\n",
        "X_test_std = sc.transform(X_test)"
      ],
      "execution_count": null,
      "outputs": []
    },
    {
      "cell_type": "code",
      "metadata": {
        "id": "vuqTozCT2X_G",
        "colab": {
          "base_uri": "https://localhost:8080/"
        },
        "outputId": "c41b8c56-e648-437c-d5d8-f0a25bb30c5f"
      },
      "source": [
        "#Author: Ashwin Sukhumaran\n",
        "model_DNN = keras.models.Sequential()\n",
        "# Hidden layer definitions\n",
        "model_DNN.add(keras.layers.Dense(units=12, activation='relu', input_shape=\n",
        "X_train.shape[1:]))\n",
        "model_DNN.add(keras.layers.Dense(units=10, activation='relu'))\n",
        "model_DNN.add(keras.layers.Dense(units= 8, activation='relu'))\n",
        "model_DNN.add(keras.layers.Dense(units=6, activation='relu'))\n",
        "# Output layer definitions\n",
        "model_DNN.add(keras.layers.Dense(units=3, activation='sigmoid'))\n",
        "model_DNN.summary()"
      ],
      "execution_count": null,
      "outputs": [
        {
          "output_type": "stream",
          "name": "stdout",
          "text": [
            "Model: \"sequential\"\n",
            "_________________________________________________________________\n",
            " Layer (type)                Output Shape              Param #   \n",
            "=================================================================\n",
            " dense (Dense)               (None, 12)                60        \n",
            "                                                                 \n",
            " dense_1 (Dense)             (None, 10)                130       \n",
            "                                                                 \n",
            " dense_2 (Dense)             (None, 8)                 88        \n",
            "                                                                 \n",
            " dense_3 (Dense)             (None, 6)                 54        \n",
            "                                                                 \n",
            " dense_4 (Dense)             (None, 3)                 21        \n",
            "                                                                 \n",
            "=================================================================\n",
            "Total params: 353\n",
            "Trainable params: 353\n",
            "Non-trainable params: 0\n",
            "_________________________________________________________________\n"
          ]
        }
      ]
    },
    {
      "cell_type": "code",
      "metadata": {
        "id": "VuBhxTyE2b2w"
      },
      "source": [
        "model_DNN.compile(loss='sparse_categorical_crossentropy',\n",
        "optimizer='adam', metrics=['accuracy'])"
      ],
      "execution_count": null,
      "outputs": []
    },
    {
      "cell_type": "code",
      "metadata": {
        "id": "Y6VylO-z2qMZ",
        "colab": {
          "base_uri": "https://localhost:8080/"
        },
        "outputId": "2dca4a13-bfbd-49e2-ad64-2b5967f6c8c2"
      },
      "source": [
        "model_DNN.fit(x=X_train_std, y=y_train, validation_split=0.1, epochs=50,batch_size=16)"
      ],
      "execution_count": null,
      "outputs": [
        {
          "output_type": "stream",
          "name": "stdout",
          "text": [
            "Epoch 1/50\n",
            "7/7 [==============================] - 1s 40ms/step - loss: 1.3259 - accuracy: 0.3148 - val_loss: 1.0727 - val_accuracy: 0.5000\n",
            "Epoch 2/50\n",
            "7/7 [==============================] - 0s 9ms/step - loss: 1.2516 - accuracy: 0.3148 - val_loss: 1.0519 - val_accuracy: 0.5000\n",
            "Epoch 3/50\n",
            "7/7 [==============================] - 0s 6ms/step - loss: 1.1886 - accuracy: 0.3148 - val_loss: 1.0278 - val_accuracy: 0.5000\n",
            "Epoch 4/50\n",
            "7/7 [==============================] - 0s 7ms/step - loss: 1.1422 - accuracy: 0.3148 - val_loss: 1.0041 - val_accuracy: 0.5000\n",
            "Epoch 5/50\n",
            "7/7 [==============================] - 0s 8ms/step - loss: 1.1035 - accuracy: 0.3148 - val_loss: 0.9805 - val_accuracy: 0.5000\n",
            "Epoch 6/50\n",
            "7/7 [==============================] - 0s 6ms/step - loss: 1.0734 - accuracy: 0.3148 - val_loss: 0.9554 - val_accuracy: 0.5000\n",
            "Epoch 7/50\n",
            "7/7 [==============================] - 0s 9ms/step - loss: 1.0429 - accuracy: 0.3241 - val_loss: 0.9283 - val_accuracy: 0.5000\n",
            "Epoch 8/50\n",
            "7/7 [==============================] - 0s 7ms/step - loss: 1.0167 - accuracy: 0.3519 - val_loss: 0.9003 - val_accuracy: 0.5000\n",
            "Epoch 9/50\n",
            "7/7 [==============================] - 0s 7ms/step - loss: 0.9894 - accuracy: 0.4444 - val_loss: 0.8701 - val_accuracy: 0.5000\n",
            "Epoch 10/50\n",
            "7/7 [==============================] - 0s 7ms/step - loss: 0.9644 - accuracy: 0.5278 - val_loss: 0.8373 - val_accuracy: 0.5833\n",
            "Epoch 11/50\n",
            "7/7 [==============================] - 0s 6ms/step - loss: 0.9388 - accuracy: 0.5926 - val_loss: 0.8038 - val_accuracy: 0.5833\n",
            "Epoch 12/50\n",
            "7/7 [==============================] - 0s 7ms/step - loss: 0.9138 - accuracy: 0.6111 - val_loss: 0.7705 - val_accuracy: 0.5833\n",
            "Epoch 13/50\n",
            "7/7 [==============================] - 0s 6ms/step - loss: 0.8905 - accuracy: 0.6481 - val_loss: 0.7370 - val_accuracy: 0.5833\n",
            "Epoch 14/50\n",
            "7/7 [==============================] - 0s 7ms/step - loss: 0.8676 - accuracy: 0.6667 - val_loss: 0.7065 - val_accuracy: 0.5833\n",
            "Epoch 15/50\n",
            "7/7 [==============================] - 0s 7ms/step - loss: 0.8467 - accuracy: 0.6667 - val_loss: 0.6784 - val_accuracy: 0.5833\n",
            "Epoch 16/50\n",
            "7/7 [==============================] - 0s 7ms/step - loss: 0.8282 - accuracy: 0.6574 - val_loss: 0.6529 - val_accuracy: 0.5833\n",
            "Epoch 17/50\n",
            "7/7 [==============================] - 0s 10ms/step - loss: 0.8096 - accuracy: 0.6667 - val_loss: 0.6316 - val_accuracy: 0.5833\n",
            "Epoch 18/50\n",
            "7/7 [==============================] - 0s 6ms/step - loss: 0.7932 - accuracy: 0.6574 - val_loss: 0.6141 - val_accuracy: 0.5833\n",
            "Epoch 19/50\n",
            "7/7 [==============================] - 0s 6ms/step - loss: 0.7803 - accuracy: 0.6574 - val_loss: 0.5981 - val_accuracy: 0.5833\n",
            "Epoch 20/50\n",
            "7/7 [==============================] - 0s 7ms/step - loss: 0.7677 - accuracy: 0.6852 - val_loss: 0.5852 - val_accuracy: 0.6667\n",
            "Epoch 21/50\n",
            "7/7 [==============================] - 0s 7ms/step - loss: 0.7571 - accuracy: 0.6759 - val_loss: 0.5745 - val_accuracy: 0.6667\n",
            "Epoch 22/50\n",
            "7/7 [==============================] - 0s 6ms/step - loss: 0.7478 - accuracy: 0.6852 - val_loss: 0.5652 - val_accuracy: 0.6667\n",
            "Epoch 23/50\n",
            "7/7 [==============================] - 0s 7ms/step - loss: 0.7393 - accuracy: 0.6944 - val_loss: 0.5577 - val_accuracy: 0.6667\n",
            "Epoch 24/50\n",
            "7/7 [==============================] - 0s 7ms/step - loss: 0.7320 - accuracy: 0.7130 - val_loss: 0.5515 - val_accuracy: 0.6667\n",
            "Epoch 25/50\n",
            "7/7 [==============================] - 0s 9ms/step - loss: 0.7254 - accuracy: 0.7222 - val_loss: 0.5455 - val_accuracy: 0.6667\n",
            "Epoch 26/50\n",
            "7/7 [==============================] - 0s 10ms/step - loss: 0.7194 - accuracy: 0.7500 - val_loss: 0.5401 - val_accuracy: 0.6667\n",
            "Epoch 27/50\n",
            "7/7 [==============================] - 0s 7ms/step - loss: 0.7140 - accuracy: 0.7593 - val_loss: 0.5353 - val_accuracy: 0.6667\n",
            "Epoch 28/50\n",
            "7/7 [==============================] - 0s 7ms/step - loss: 0.7090 - accuracy: 0.7593 - val_loss: 0.5309 - val_accuracy: 0.6667\n",
            "Epoch 29/50\n",
            "7/7 [==============================] - 0s 8ms/step - loss: 0.7045 - accuracy: 0.7685 - val_loss: 0.5273 - val_accuracy: 0.6667\n",
            "Epoch 30/50\n",
            "7/7 [==============================] - 0s 8ms/step - loss: 0.7001 - accuracy: 0.7685 - val_loss: 0.5234 - val_accuracy: 0.6667\n",
            "Epoch 31/50\n",
            "7/7 [==============================] - 0s 7ms/step - loss: 0.6961 - accuracy: 0.7685 - val_loss: 0.5197 - val_accuracy: 0.6667\n",
            "Epoch 32/50\n",
            "7/7 [==============================] - 0s 7ms/step - loss: 0.6921 - accuracy: 0.7963 - val_loss: 0.5163 - val_accuracy: 0.6667\n",
            "Epoch 33/50\n",
            "7/7 [==============================] - 0s 8ms/step - loss: 0.6884 - accuracy: 0.8056 - val_loss: 0.5131 - val_accuracy: 0.6667\n",
            "Epoch 34/50\n",
            "7/7 [==============================] - 0s 7ms/step - loss: 0.6848 - accuracy: 0.8148 - val_loss: 0.5098 - val_accuracy: 0.7500\n",
            "Epoch 35/50\n",
            "7/7 [==============================] - 0s 8ms/step - loss: 0.6813 - accuracy: 0.8519 - val_loss: 0.5068 - val_accuracy: 0.7500\n",
            "Epoch 36/50\n",
            "7/7 [==============================] - 0s 7ms/step - loss: 0.6780 - accuracy: 0.8519 - val_loss: 0.5038 - val_accuracy: 0.8333\n",
            "Epoch 37/50\n",
            "7/7 [==============================] - 0s 7ms/step - loss: 0.6743 - accuracy: 0.8704 - val_loss: 0.5004 - val_accuracy: 0.8333\n",
            "Epoch 38/50\n",
            "7/7 [==============================] - 0s 7ms/step - loss: 0.6709 - accuracy: 0.8796 - val_loss: 0.4977 - val_accuracy: 0.9167\n",
            "Epoch 39/50\n",
            "7/7 [==============================] - 0s 7ms/step - loss: 0.6673 - accuracy: 0.8704 - val_loss: 0.4943 - val_accuracy: 0.9167\n",
            "Epoch 40/50\n",
            "7/7 [==============================] - 0s 7ms/step - loss: 0.6635 - accuracy: 0.9074 - val_loss: 0.4911 - val_accuracy: 0.9167\n",
            "Epoch 41/50\n",
            "7/7 [==============================] - 0s 9ms/step - loss: 0.6597 - accuracy: 0.9352 - val_loss: 0.4886 - val_accuracy: 0.9167\n",
            "Epoch 42/50\n",
            "7/7 [==============================] - 0s 6ms/step - loss: 0.6557 - accuracy: 0.9259 - val_loss: 0.4851 - val_accuracy: 0.9167\n",
            "Epoch 43/50\n",
            "7/7 [==============================] - 0s 6ms/step - loss: 0.6515 - accuracy: 0.9352 - val_loss: 0.4818 - val_accuracy: 0.9167\n",
            "Epoch 44/50\n",
            "7/7 [==============================] - 0s 7ms/step - loss: 0.6474 - accuracy: 0.9352 - val_loss: 0.4786 - val_accuracy: 1.0000\n",
            "Epoch 45/50\n",
            "7/7 [==============================] - 0s 7ms/step - loss: 0.6423 - accuracy: 0.9352 - val_loss: 0.4732 - val_accuracy: 1.0000\n",
            "Epoch 46/50\n",
            "7/7 [==============================] - 0s 7ms/step - loss: 0.6383 - accuracy: 0.9630 - val_loss: 0.4671 - val_accuracy: 1.0000\n",
            "Epoch 47/50\n",
            "7/7 [==============================] - 0s 7ms/step - loss: 0.6327 - accuracy: 0.9630 - val_loss: 0.4638 - val_accuracy: 1.0000\n",
            "Epoch 48/50\n",
            "7/7 [==============================] - 0s 7ms/step - loss: 0.6274 - accuracy: 0.9630 - val_loss: 0.4582 - val_accuracy: 1.0000\n",
            "Epoch 49/50\n",
            "7/7 [==============================] - 0s 8ms/step - loss: 0.6216 - accuracy: 0.9630 - val_loss: 0.4536 - val_accuracy: 1.0000\n",
            "Epoch 50/50\n",
            "7/7 [==============================] - 0s 7ms/step - loss: 0.6166 - accuracy: 0.9722 - val_loss: 0.4468 - val_accuracy: 1.0000\n"
          ]
        },
        {
          "output_type": "execute_result",
          "data": {
            "text/plain": [
              "<keras.callbacks.History at 0x7fa846810650>"
            ]
          },
          "metadata": {},
          "execution_count": 7
        }
      ]
    },
    {
      "cell_type": "code",
      "metadata": {
        "id": "IaNue74-2rn8",
        "colab": {
          "base_uri": "https://localhost:8080/"
        },
        "outputId": "1f52f76c-f465-425d-db5c-53c03584e2d8"
      },
      "source": [
        "test_loss, test_accuracy = model_DNN.evaluate(x=X_test_std, y=y_test)"
      ],
      "execution_count": null,
      "outputs": [
        {
          "output_type": "stream",
          "name": "stdout",
          "text": [
            "1/1 [==============================] - 0s 22ms/step - loss: 0.6042 - accuracy: 0.9333\n"
          ]
        }
      ]
    },
    {
      "cell_type": "code",
      "metadata": {
        "id": "dGqq9DlM2tb2",
        "colab": {
          "base_uri": "https://localhost:8080/"
        },
        "outputId": "7a3b447c-76b6-4a75-c86b-bc26d49288df"
      },
      "source": [
        "print(test_loss, test_accuracy)\n",
        "# 0.6650057435035706 0.93333334"
      ],
      "execution_count": null,
      "outputs": [
        {
          "output_type": "stream",
          "name": "stdout",
          "text": [
            "0.6041734218597412 0.9333333373069763\n"
          ]
        }
      ]
    },
    {
      "cell_type": "code",
      "metadata": {
        "id": "VGGm8zT82unI"
      },
      "source": [
        "y_pred=model_DNN.predict(X)"
      ],
      "execution_count": null,
      "outputs": []
    },
    {
      "cell_type": "markdown",
      "source": [
        "#Regression\n"
      ],
      "metadata": {
        "id": "m3n_dkX3tk0Z"
      }
    },
    {
      "cell_type": "code",
      "metadata": {
        "id": "ni3V5ONtlQXk"
      },
      "source": [
        "#Submitted by: Ashwin Sukhumaran\n",
        "import numpy as np\n",
        "from sklearn.linear_model import LinearRegression\n",
        "X = np.array([[1, 1], [1, 2], [2, 2], [2, 3]])\n",
        "# y = 1 * x_0 + 2 * x_1 + 3\n",
        "y = np.dot(X, np.array([1, 2])) + 3\n",
        "reg = LinearRegression().fit(X, y)\n",
        "reg.score(X, y)\n",
        "reg.coef_\n",
        "reg.intercept_\n",
        "reg.predict(np.array([[3, 5]]))"
      ],
      "execution_count": null,
      "outputs": []
    }
  ]
}